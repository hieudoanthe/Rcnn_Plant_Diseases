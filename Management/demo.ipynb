{
 "cells": [
  {
   "cell_type": "code",
   "execution_count": 2,
   "metadata": {},
   "outputs": [
    {
     "name": "stdout",
     "output_type": "stream",
     "text": [
      "Found 70295 images belonging to 38 classes.\n",
      "Found 17572 images belonging to 38 classes.\n",
      "Epoch 1/10\n"
     ]
    },
    {
     "ename": "ValueError",
     "evalue": "In the dict argument `loss`, key 'rpn_cls' does not correspond to any model output. Received:\nloss={'rpn_cls': <keras.src.losses.losses.SparseCategoricalCrossentropy object at 0x0000025878D06AE0>, 'rpn_reg': 'mse'}",
     "output_type": "error",
     "traceback": [
      "\u001b[1;31m---------------------------------------------------------------------------\u001b[0m",
      "\u001b[1;31mValueError\u001b[0m                                Traceback (most recent call last)",
      "Cell \u001b[1;32mIn[2], line 84\u001b[0m\n\u001b[0;32m     77\u001b[0m rcnn_model\u001b[38;5;241m.\u001b[39mcompile(optimizer\u001b[38;5;241m=\u001b[39mAdam(learning_rate\u001b[38;5;241m=\u001b[39m\u001b[38;5;241m0.0001\u001b[39m),\n\u001b[0;32m     78\u001b[0m                    loss\u001b[38;5;241m=\u001b[39m{\u001b[38;5;124m'\u001b[39m\u001b[38;5;124mrpn_cls\u001b[39m\u001b[38;5;124m'\u001b[39m: SparseCategoricalCrossentropy(),\n\u001b[0;32m     79\u001b[0m                          \u001b[38;5;124m'\u001b[39m\u001b[38;5;124mrpn_reg\u001b[39m\u001b[38;5;124m'\u001b[39m: \u001b[38;5;124m'\u001b[39m\u001b[38;5;124mmse\u001b[39m\u001b[38;5;124m'\u001b[39m},\n\u001b[0;32m     80\u001b[0m                    metrics\u001b[38;5;241m=\u001b[39m{\u001b[38;5;124m'\u001b[39m\u001b[38;5;124mrpn_cls\u001b[39m\u001b[38;5;124m'\u001b[39m: \u001b[38;5;124m'\u001b[39m\u001b[38;5;124maccuracy\u001b[39m\u001b[38;5;124m'\u001b[39m,\n\u001b[0;32m     81\u001b[0m                             \u001b[38;5;124m'\u001b[39m\u001b[38;5;124mrpn_reg\u001b[39m\u001b[38;5;124m'\u001b[39m: \u001b[38;5;124m'\u001b[39m\u001b[38;5;124mmse\u001b[39m\u001b[38;5;124m'\u001b[39m})\n\u001b[0;32m     83\u001b[0m \u001b[38;5;66;03m# Huấn luyện mô hình\u001b[39;00m\n\u001b[1;32m---> 84\u001b[0m rcnn_history \u001b[38;5;241m=\u001b[39m \u001b[43mrcnn_model\u001b[49m\u001b[38;5;241;43m.\u001b[39;49m\u001b[43mfit\u001b[49m\u001b[43m(\u001b[49m\u001b[43mtrain_generator\u001b[49m\u001b[43m,\u001b[49m\u001b[43m \u001b[49m\u001b[43mepochs\u001b[49m\u001b[38;5;241;43m=\u001b[39;49m\u001b[38;5;241;43m10\u001b[39;49m\u001b[43m,\u001b[49m\u001b[43m \u001b[49m\u001b[43mvalidation_data\u001b[49m\u001b[38;5;241;43m=\u001b[39;49m\u001b[43mvalid_generator\u001b[49m\u001b[43m)\u001b[49m\n\u001b[0;32m     86\u001b[0m \u001b[38;5;66;03m# Lưu mô hình\u001b[39;00m\n\u001b[0;32m     87\u001b[0m rcnn_model\u001b[38;5;241m.\u001b[39msave(\u001b[38;5;124m'\u001b[39m\u001b[38;5;124mfaster_rcnn_model.h5\u001b[39m\u001b[38;5;124m'\u001b[39m)\n",
      "File \u001b[1;32mh:\\Applications\\Envir\\Pyth\\Lib\\site-packages\\keras\\src\\utils\\traceback_utils.py:122\u001b[0m, in \u001b[0;36mfilter_traceback.<locals>.error_handler\u001b[1;34m(*args, **kwargs)\u001b[0m\n\u001b[0;32m    119\u001b[0m     filtered_tb \u001b[38;5;241m=\u001b[39m _process_traceback_frames(e\u001b[38;5;241m.\u001b[39m__traceback__)\n\u001b[0;32m    120\u001b[0m     \u001b[38;5;66;03m# To get the full stack trace, call:\u001b[39;00m\n\u001b[0;32m    121\u001b[0m     \u001b[38;5;66;03m# `keras.config.disable_traceback_filtering()`\u001b[39;00m\n\u001b[1;32m--> 122\u001b[0m     \u001b[38;5;28;01mraise\u001b[39;00m e\u001b[38;5;241m.\u001b[39mwith_traceback(filtered_tb) \u001b[38;5;28;01mfrom\u001b[39;00m \u001b[38;5;28;01mNone\u001b[39;00m\n\u001b[0;32m    123\u001b[0m \u001b[38;5;28;01mfinally\u001b[39;00m:\n\u001b[0;32m    124\u001b[0m     \u001b[38;5;28;01mdel\u001b[39;00m filtered_tb\n",
      "File \u001b[1;32mh:\\Applications\\Envir\\Pyth\\Lib\\site-packages\\keras\\src\\trainers\\compile_utils.py:458\u001b[0m, in \u001b[0;36mCompileLoss.build\u001b[1;34m(self, y_true, y_pred)\u001b[0m\n\u001b[0;32m    456\u001b[0m     \u001b[38;5;28;01mfor\u001b[39;00m name \u001b[38;5;129;01min\u001b[39;00m loss\u001b[38;5;241m.\u001b[39mkeys():\n\u001b[0;32m    457\u001b[0m         \u001b[38;5;28;01mif\u001b[39;00m name \u001b[38;5;129;01mnot\u001b[39;00m \u001b[38;5;129;01min\u001b[39;00m output_names:\n\u001b[1;32m--> 458\u001b[0m             \u001b[38;5;28;01mraise\u001b[39;00m \u001b[38;5;167;01mValueError\u001b[39;00m(\n\u001b[0;32m    459\u001b[0m                 \u001b[38;5;124m\"\u001b[39m\u001b[38;5;124mIn the dict argument `loss`, key \u001b[39m\u001b[38;5;124m\"\u001b[39m\n\u001b[0;32m    460\u001b[0m                 \u001b[38;5;124mf\u001b[39m\u001b[38;5;124m\"\u001b[39m\u001b[38;5;124m'\u001b[39m\u001b[38;5;132;01m{\u001b[39;00mname\u001b[38;5;132;01m}\u001b[39;00m\u001b[38;5;124m'\u001b[39m\u001b[38;5;124m does not correspond to any model output. \u001b[39m\u001b[38;5;124m\"\u001b[39m\n\u001b[0;32m    461\u001b[0m                 \u001b[38;5;124mf\u001b[39m\u001b[38;5;124m\"\u001b[39m\u001b[38;5;124mReceived:\u001b[39m\u001b[38;5;130;01m\\n\u001b[39;00m\u001b[38;5;124mloss=\u001b[39m\u001b[38;5;132;01m{\u001b[39;00mloss\u001b[38;5;132;01m}\u001b[39;00m\u001b[38;5;124m\"\u001b[39m\n\u001b[0;32m    462\u001b[0m             )\n\u001b[0;32m    463\u001b[0m \u001b[38;5;28;01mif\u001b[39;00m num_outputs \u001b[38;5;241m==\u001b[39m \u001b[38;5;241m1\u001b[39m:\n\u001b[0;32m    464\u001b[0m     \u001b[38;5;28;01mif\u001b[39;00m \u001b[38;5;28misinstance\u001b[39m(loss, \u001b[38;5;28mdict\u001b[39m):\n",
      "\u001b[1;31mValueError\u001b[0m: In the dict argument `loss`, key 'rpn_cls' does not correspond to any model output. Received:\nloss={'rpn_cls': <keras.src.losses.losses.SparseCategoricalCrossentropy object at 0x0000025878D06AE0>, 'rpn_reg': 'mse'}"
     ]
    }
   ],
   "source": [
    "import tensorflow as tf\n",
    "from tensorflow.keras.layers import Input, Conv2D, Dense, Flatten, Reshape, GlobalAveragePooling2D\n",
    "from tensorflow.keras.models import Model\n",
    "from tensorflow.keras.applications import VGG16\n",
    "from tensorflow.keras.optimizers import Adam\n",
    "from tensorflow.keras.losses import SparseCategoricalCrossentropy, MeanSquaredError\n",
    "from tensorflow.keras.preprocessing.image import ImageDataGenerator\n",
    "import numpy as np\n",
    "\n",
    "# Hàm tính IOU\n",
    "def compute_iou(box1, box2):\n",
    "    x1 = np.maximum(box1[0], box2[0])\n",
    "    y1 = np.maximum(box1[1], box2[1])\n",
    "    x2 = np.minimum(box1[2], box2[2])\n",
    "    y2 = np.minimum(box1[3], box2[3])\n",
    "    \n",
    "    intersection_area = np.maximum(x2 - x1, 0) * np.maximum(y2 - y1, 0)\n",
    "    \n",
    "    box1_area = (box1[2] - box1[0]) * (box1[3] - box1[1])\n",
    "    box2_area = (box2[2] - box2[0]) * (box2[3] - box2[1])\n",
    "    \n",
    "    union_area = box1_area + box2_area - intersection_area\n",
    "    \n",
    "    iou = intersection_area / union_area\n",
    "    return iou\n",
    "\n",
    "# Tạo mô hình VGG16 backbone\n",
    "def create_vgg16_backbone(input_shape=(256, 256, 3)):\n",
    "    vgg16 = VGG16(weights='imagenet', include_top=False, input_shape=input_shape)\n",
    "    for layer in vgg16.layers:\n",
    "        layer.trainable = False\n",
    "    return vgg16\n",
    "\n",
    "# Tạo RPN (Region Proposal Network)\n",
    "def create_rpn(backbone):\n",
    "    rpn_conv = Conv2D(256, (3, 3), activation='relu', padding='same')(backbone.output)\n",
    "    rpn_cls = Conv2D(9, (1, 1), activation='sigmoid', name='rpn_cls')(rpn_conv)\n",
    "    rpn_reg = Conv2D(36, (1, 1), activation='linear', name='rpn_reg')(rpn_conv)\n",
    "    \n",
    "    rpn_cls_flat = Flatten()(rpn_cls)\n",
    "    rpn_reg_flat = Flatten()(rpn_reg)\n",
    "    \n",
    "    return rpn_cls_flat, rpn_reg_flat\n",
    "\n",
    "# Tạo lớp đầu ra cuối cùng cho classification và regression\n",
    "def create_detection_head(backbone, num_classes):\n",
    "    x = GlobalAveragePooling2D()(backbone.output)\n",
    "    cls_output = Dense(num_classes, activation='softmax', name='cls_output')(x)\n",
    "    reg_output = Dense(4, activation='linear', name='reg_output')(x)\n",
    "    return cls_output, reg_output\n",
    "\n",
    "# Tạo mô hình Faster R-CNN với VGG16 backbone, RPN và detection head\n",
    "def create_faster_rcnn_model(input_shape=(256, 256, 3), num_classes=5):\n",
    "    input_layer = Input(shape=input_shape)\n",
    "    backbone = create_vgg16_backbone(input_shape)(input_layer)\n",
    "    rpn_cls_pred, rpn_reg_pred = create_rpn(backbone)\n",
    "    cls_output, reg_output = create_detection_head(backbone, num_classes)\n",
    "    \n",
    "    rcnn_model = Model(inputs=input_layer, outputs=[rpn_cls_pred, rpn_reg_pred, cls_output, reg_output])\n",
    "    return rcnn_model\n",
    "\n",
    "# Chuẩn bị dữ liệu\n",
    "train_dir = 'O:/Rcnn_Plant_diseases/Dataset/train'\n",
    "valid_dir = 'O:/Rcnn_Plant_diseases/Dataset/valid'\n",
    "\n",
    "train_datagen = ImageDataGenerator(rescale=1./255)\n",
    "valid_datagen = ImageDataGenerator(rescale=1./255)\n",
    "\n",
    "train_generator = train_datagen.flow_from_directory(\n",
    "    train_dir,\n",
    "    target_size=(256, 256),\n",
    "    batch_size=32,\n",
    "    class_mode='sparse'\n",
    ")\n",
    "\n",
    "valid_generator = valid_datagen.flow_from_directory(\n",
    "    valid_dir,\n",
    "    target_size=(256, 256),\n",
    "    batch_size=32,\n",
    "    class_mode='sparse'\n",
    ")\n",
    "\n",
    "# Xây dựng mô hình Faster R-CNN\n",
    "rcnn_model = create_faster_rcnn_model(input_shape=(256, 256, 3), num_classes=train_generator.num_classes)\n",
    "\n",
    "# Compile mô hình với optimizer và loss function\n",
    "rcnn_model.compile(optimizer=Adam(learning_rate=0.0001),\n",
    "                   loss={'rpn_cls': 'binary_crossentropy', 'rpn_reg': MeanSquaredError(),\n",
    "                         'cls_output': SparseCategoricalCrossentropy(), 'reg_output': MeanSquaredError()},\n",
    "                   metrics={'rpn_cls': 'accuracy', 'rpn_reg': 'mse', 'cls_output': 'accuracy', 'reg_output': 'mse'})\n",
    "\n",
    "# Huấn luyện mô hình\n",
    "rcnn_history = rcnn_model.fit(train_generator, epochs=10, validation_data=valid_generator)\n",
    "\n",
    "# Lưu mô hình\n",
    "rcnn_model.save('faster_rcnn_model.h5')\n",
    "\n",
    "# Lịch sử huấn luyện được trả về từ phương thức fit()\n",
    "history = rcnn_history.history\n",
    "\n",
    "# Lưu lịch sử huấn luyện vào một tệp JSON\n",
    "import json\n",
    "with open('training_history.json', 'w') as f:\n",
    "    json.dump(history, f)\n"
   ]
  },
  {
   "cell_type": "code",
   "execution_count": null,
   "metadata": {},
   "outputs": [
    {
     "name": "stdout",
     "output_type": "stream",
     "text": [
      "Epoch 1/10\n"
     ]
    },
    {
     "name": "stderr",
     "output_type": "stream",
     "text": [
      "h:\\Applications\\Envir\\Pyth\\Lib\\site-packages\\keras\\src\\optimizers\\base_optimizer.py:664: UserWarning: Gradients do not exist for variables ['kernel', 'bias'] when minimizing the loss. If using `model.compile()`, did you forget to provide a `loss` argument?\n",
      "  warnings.warn(\n",
      "h:\\Applications\\Envir\\Pyth\\Lib\\site-packages\\keras\\src\\trainers\\data_adapters\\py_dataset_adapter.py:121: UserWarning: Your `PyDataset` class should call `super().__init__(**kwargs)` in its constructor. `**kwargs` can include `workers`, `use_multiprocessing`, `max_queue_size`. Do not pass these arguments to `fit()`, as they will be ignored.\n",
      "  self._warn_if_super_not_called()\n"
     ]
    },
    {
     "name": "stdout",
     "output_type": "stream",
     "text": [
      "\u001b[1m 173/2197\u001b[0m \u001b[32m━\u001b[0m\u001b[37m━━━━━━━━━━━━━━━━━━━\u001b[0m \u001b[1m26:31\u001b[0m 786ms/step - functional_1_accuracy: 0.0012 - loss: 11.8172"
     ]
    }
   ],
   "source": [
    "# Huấn luyện mô hình\n",
    "rcnn_history = rcnn_model.fit(train_generator, epochs=10, validation_data=valid_generator)\n"
   ]
  }
 ],
 "metadata": {
  "kernelspec": {
   "display_name": "Python 3",
   "language": "python",
   "name": "python3"
  },
  "language_info": {
   "codemirror_mode": {
    "name": "ipython",
    "version": 3
   },
   "file_extension": ".py",
   "mimetype": "text/x-python",
   "name": "python",
   "nbconvert_exporter": "python",
   "pygments_lexer": "ipython3",
   "version": "3.12.3"
  }
 },
 "nbformat": 4,
 "nbformat_minor": 2
}
