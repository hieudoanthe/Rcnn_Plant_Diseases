{
 "cells": [
  {
   "cell_type": "code",
   "execution_count": 26,
   "metadata": {},
   "outputs": [],
   "source": [
    "import tensorflow as tf\n",
    "from tensorflow.keras.layers import Input, Conv2D, Dense, Flatten\n",
    "from tensorflow.keras.models import Model\n",
    "from tensorflow.keras.optimizers import Adam\n",
    "from tensorflow.keras.losses import SparseCategoricalCrossentropy, MeanSquaredError\n",
    "from tensorflow.keras.preprocessing.image import ImageDataGenerator\n",
    "import numpy as np"
   ]
  },
  {
   "cell_type": "code",
   "execution_count": 27,
   "metadata": {},
   "outputs": [],
   "source": [
    "# Hàm tính IOU\n",
    "def compute_iou(box1, box2):\n",
    "    \"\"\" Tính Intersection over Union (IOU) giữa hai bounding boxes. \"\"\"\n",
    "    x1 = np.maximum(box1[0], box2[0])\n",
    "    y1 = np.maximum(box1[1], box2[1])\n",
    "    x2 = np.minimum(box1[2], box2[2])\n",
    "    y2 = np.minimum(box1[3], box2[3])\n",
    "    \n",
    "    intersection_area = np.maximum(x2 - x1, 0) * np.maximum(y2 - y1, 0)\n",
    "    \n",
    "    box1_area = (box1[2] - box1[0]) * (box1[3] - box1[1])\n",
    "    box2_area = (box2[2] - box2[0]) * (box2[3] - box2[1])\n",
    "    \n",
    "    union_area = box1_area + box2_area - intersection_area\n",
    "    \n",
    "    iou = intersection_area / union_area\n",
    "    return iou\n"
   ]
  },
  {
   "cell_type": "code",
   "execution_count": 28,
   "metadata": {},
   "outputs": [],
   "source": [
    "# Tạo mô hình Faster R-CNN đơn giản với RPN và bounding box regression\n",
    "def create_faster_rcnn_model():\n",
    "    input_layer = Input(shape=(None, None, 3))\n",
    "    \n",
    "    # RPN (Region Proposal Network)\n",
    "    rpn_conv = Conv2D(256, (3, 3), activation='relu', padding='same')(input_layer)\n",
    "    rpn_cls = Conv2D(9, (1, 1), activation='sigmoid', name='rpn_cls')(rpn_conv)  # 9 là số lượng anchor boxes\n",
    "    rpn_reg = Conv2D(36, (1, 1), activation='linear', name='rpn_reg')(rpn_conv)  # 36 = 4 (bounding box deltas) * 9\n",
    "    \n",
    "    # Flatten output của RPN\n",
    "    rpn_cls_flat = Flatten()(rpn_cls)\n",
    "    rpn_reg_flat = Flatten()(rpn_reg)\n",
    "    \n",
    "    # Tạo mô hình\n",
    "    rpn_model = Model(inputs=input_layer, outputs=[rpn_cls_flat, rpn_reg_flat])\n",
    "    return rpn_model\n"
   ]
  },
  {
   "cell_type": "code",
   "execution_count": 29,
   "metadata": {},
   "outputs": [
    {
     "name": "stdout",
     "output_type": "stream",
     "text": [
      "Found 70295 images belonging to 38 classes.\n",
      "Found 17572 images belonging to 38 classes.\n"
     ]
    }
   ],
   "source": [
    "# Chuẩn bị dữ liệu\n",
    "train_dir = 'O:/Rcnn_Plant_diseases/Dataset/train'\n",
    "valid_dir = 'O:/Rcnn_Plant_diseases/Dataset/valid'\n",
    "\n",
    "train_datagen = ImageDataGenerator(rescale=1./255)\n",
    "valid_datagen = ImageDataGenerator(rescale=1./255)\n",
    "\n",
    "train_generator = train_datagen.flow_from_directory(\n",
    "    train_dir,\n",
    "    target_size=(128, 128),\n",
    "    batch_size=32,\n",
    "    class_mode='sparse',\n",
    "    subset='training'\n",
    ")\n",
    "\n",
    "valid_generator = valid_datagen.flow_from_directory(\n",
    "    valid_dir,\n",
    "    target_size=(128, 128),\n",
    "    batch_size=32,\n",
    "    class_mode='sparse'\n",
    ")\n"
   ]
  },
  {
   "cell_type": "code",
   "execution_count": 30,
   "metadata": {},
   "outputs": [],
   "source": [
    "# Xây dựng mô hình Faster R-CNN\n",
    "rpn_model = create_faster_rcnn_model()\n"
   ]
  },
  {
   "cell_type": "code",
   "execution_count": 31,
   "metadata": {},
   "outputs": [],
   "source": [
    "# Tạo input và output placeholders cho classification và bounding box regression\n",
    "input_layer = Input(shape=(None, None, 3))\n",
    "rpn_cls_pred, rpn_reg_pred = rpn_model(input_layer)"
   ]
  },
  {
   "cell_type": "code",
   "execution_count": 32,
   "metadata": {},
   "outputs": [],
   "source": [
    "# Tạo mô hình chính với input là input_layer và output là rpn_cls_pred và rpn_reg_pred\n",
    "rcnn_model = Model(inputs=input_layer, outputs=[rpn_cls_pred, rpn_reg_pred])"
   ]
  },
  {
   "cell_type": "code",
   "execution_count": 33,
   "metadata": {},
   "outputs": [],
   "source": [
    "# Compile mô hình với optimizer và loss function\n",
    "rcnn_model.compile(optimizer=Adam(learning_rate=0.0001),\n",
    "                   loss=[SparseCategoricalCrossentropy(), tf.keras.losses.MeanSquaredError()],\n",
    "                   metrics=['accuracy', tf.keras.metrics.MeanSquaredError()])\n",
    "\n",
    "# Compile mô hình với optimizer và loss function\n",
    "# rcnn_model.compile(optimizer=Adam(learning_rate=0.0001),\n",
    "#                    loss=[SparseCategoricalCrossentropy(), mse],\n",
    "#                    metrics=['accuracy', mse])\n",
    "\n"
   ]
  },
  {
   "cell_type": "code",
   "execution_count": 36,
   "metadata": {},
   "outputs": [
    {
     "name": "stdout",
     "output_type": "stream",
     "text": [
      "Epoch 1/10\n",
      "\u001b[1m2197/2197\u001b[0m \u001b[32m━━━━━━━━━━━━━━━━━━━━\u001b[0m\u001b[37m\u001b[0m \u001b[1m2014s\u001b[0m 916ms/step - functional_9_accuracy: 0.0172 - loss: 9.3199 - val_functional_9_accuracy: 0.0214 - val_loss: 7.0651\n",
      "Epoch 2/10\n",
      "\u001b[1m2197/2197\u001b[0m \u001b[32m━━━━━━━━━━━━━━━━━━━━\u001b[0m\u001b[37m\u001b[0m \u001b[1m2009s\u001b[0m 914ms/step - functional_9_accuracy: 0.0205 - loss: 7.0243 - val_functional_9_accuracy: 0.0219 - val_loss: 6.9654\n",
      "Epoch 3/10\n",
      "\u001b[1m2197/2197\u001b[0m \u001b[32m━━━━━━━━━━━━━━━━━━━━\u001b[0m\u001b[37m\u001b[0m \u001b[1m1982s\u001b[0m 902ms/step - functional_9_accuracy: 0.0208 - loss: 6.9598 - val_functional_9_accuracy: 0.0266 - val_loss: 6.9230\n",
      "Epoch 4/10\n",
      "\u001b[1m2197/2197\u001b[0m \u001b[32m━━━━━━━━━━━━━━━━━━━━\u001b[0m\u001b[37m\u001b[0m \u001b[1m1972s\u001b[0m 897ms/step - functional_9_accuracy: 0.0229 - loss: 6.9351 - val_functional_9_accuracy: 0.0273 - val_loss: 6.8933\n",
      "Epoch 5/10\n",
      "\u001b[1m2197/2197\u001b[0m \u001b[32m━━━━━━━━━━━━━━━━━━━━\u001b[0m\u001b[37m\u001b[0m \u001b[1m1918s\u001b[0m 873ms/step - functional_9_accuracy: 0.0244 - loss: 6.8902 - val_functional_9_accuracy: 0.0277 - val_loss: 6.8707\n",
      "Epoch 6/10\n",
      "\u001b[1m2197/2197\u001b[0m \u001b[32m━━━━━━━━━━━━━━━━━━━━\u001b[0m\u001b[37m\u001b[0m \u001b[1m1849s\u001b[0m 841ms/step - functional_9_accuracy: 0.0329 - loss: 6.8759 - val_functional_9_accuracy: 0.0418 - val_loss: 6.8537\n",
      "Epoch 7/10\n",
      "\u001b[1m2197/2197\u001b[0m \u001b[32m━━━━━━━━━━━━━━━━━━━━\u001b[0m\u001b[37m\u001b[0m \u001b[1m1826s\u001b[0m 831ms/step - functional_9_accuracy: 0.0351 - loss: 6.8595 - val_functional_9_accuracy: 0.0313 - val_loss: 6.8418\n",
      "Epoch 8/10\n",
      "\u001b[1m2197/2197\u001b[0m \u001b[32m━━━━━━━━━━━━━━━━━━━━\u001b[0m\u001b[37m\u001b[0m \u001b[1m1868s\u001b[0m 850ms/step - functional_9_accuracy: 0.0401 - loss: 6.8421 - val_functional_9_accuracy: 0.0438 - val_loss: 6.8267\n",
      "Epoch 9/10\n",
      "\u001b[1m2197/2197\u001b[0m \u001b[32m━━━━━━━━━━━━━━━━━━━━\u001b[0m\u001b[37m\u001b[0m \u001b[1m1850s\u001b[0m 842ms/step - functional_9_accuracy: 0.0423 - loss: 6.8394 - val_functional_9_accuracy: 0.0431 - val_loss: 6.8142\n",
      "Epoch 10/10\n",
      "\u001b[1m2197/2197\u001b[0m \u001b[32m━━━━━━━━━━━━━━━━━━━━\u001b[0m\u001b[37m\u001b[0m \u001b[1m1916s\u001b[0m 872ms/step - functional_9_accuracy: 0.0426 - loss: 6.8141 - val_functional_9_accuracy: 0.0425 - val_loss: 6.8059\n"
     ]
    }
   ],
   "source": [
    "# Huấn luyện mô hình\n",
    "rcnn_history = rcnn_model.fit(train_generator, epochs=10, validation_data=valid_generator)\n"
   ]
  },
  {
   "cell_type": "code",
   "execution_count": 37,
   "metadata": {},
   "outputs": [
    {
     "name": "stderr",
     "output_type": "stream",
     "text": [
      "WARNING:absl:You are saving your model as an HDF5 file via `model.save()` or `keras.saving.save_model(model)`. This file format is considered legacy. We recommend using instead the native Keras format, e.g. `model.save('my_model.keras')` or `keras.saving.save_model(model, 'my_model.keras')`. \n"
     ]
    }
   ],
   "source": [
    "# Lưu mô hình\n",
    "rcnn_model.save('faster_rcnn_new_model.h5')"
   ]
  },
  {
   "cell_type": "code",
   "execution_count": 38,
   "metadata": {},
   "outputs": [],
   "source": [
    "# Lịch sử huấn luyện được trả về từ phương thức fit()\n",
    "history = rcnn_history.history\n",
    "\n",
    "# Lưu lịch sử huấn luyện vào một tệp JSON\n",
    "import json\n",
    "with open('training_new_history.json', 'w') as f:\n",
    "    json.dump(history, f)\n"
   ]
  }
 ],
 "metadata": {
  "kernelspec": {
   "display_name": "Python 3",
   "language": "python",
   "name": "python3"
  },
  "language_info": {
   "codemirror_mode": {
    "name": "ipython",
    "version": 3
   },
   "file_extension": ".py",
   "mimetype": "text/x-python",
   "name": "python",
   "nbconvert_exporter": "python",
   "pygments_lexer": "ipython3",
   "version": "3.12.3"
  }
 },
 "nbformat": 4,
 "nbformat_minor": 2
}
